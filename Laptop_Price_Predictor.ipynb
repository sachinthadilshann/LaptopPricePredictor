{
  "cells": [
    {
      "cell_type": "markdown",
      "metadata": {
        "id": "view-in-github",
        "colab_type": "text"
      },
      "source": [
        "<a href=\"https://colab.research.google.com/github/sachinthadilshann/LaptopPricePredictor/blob/main/Laptop_Price_Predictor.ipynb\" target=\"_parent\"><img src=\"https://colab.research.google.com/assets/colab-badge.svg\" alt=\"Open In Colab\"/></a>"
      ]
    },
    {
      "cell_type": "code",
      "execution_count": 13,
      "id": "9bc8447a",
      "metadata": {
        "id": "9bc8447a"
      },
      "outputs": [],
      "source": [
        "import numpy as np\n",
        "import pandas as pd"
      ]
    },
    {
      "cell_type": "code",
      "execution_count": 14,
      "id": "c6e402ad",
      "metadata": {
        "id": "c6e402ad"
      },
      "outputs": [],
      "source": [
        "url = \"https://github.com/sachinthadilshann/LaptopPricePredictor/raw/main/laptop_price.csv\"\n",
        "df = pd.read_csv(url,encoding='latin-1')"
      ]
    },
    {
      "cell_type": "code",
      "execution_count": 15,
      "id": "a34bb27d",
      "metadata": {
        "colab": {
          "base_uri": "https://localhost:8080/"
        },
        "id": "a34bb27d",
        "outputId": "423c37e2-195f-4310-b63c-c12dfe415c7d"
      },
      "outputs": [
        {
          "output_type": "execute_result",
          "data": {
            "text/plain": [
              "(1303, 12)"
            ]
          },
          "metadata": {},
          "execution_count": 15
        }
      ],
      "source": [
        "df.shape"
      ]
    },
    {
      "cell_type": "code",
      "execution_count": 16,
      "id": "e902d4d2",
      "metadata": {
        "colab": {
          "base_uri": "https://localhost:8080/"
        },
        "id": "e902d4d2",
        "outputId": "b8b72833-39d4-4100-a50a-6d25506d6a5c"
      },
      "outputs": [
        {
          "output_type": "execute_result",
          "data": {
            "text/plain": [
              "laptop_ID           0\n",
              "Company             0\n",
              "Product             0\n",
              "TypeName            0\n",
              "Inches              0\n",
              "ScreenResolution    0\n",
              "Cpu                 0\n",
              "Ram                 0\n",
              "Gpu                 0\n",
              "OpSys               0\n",
              "Weight              0\n",
              "Price_euros         0\n",
              "dtype: int64"
            ]
          },
          "metadata": {},
          "execution_count": 16
        }
      ],
      "source": [
        "df.isnull().sum()"
      ]
    },
    {
      "cell_type": "code",
      "execution_count": 17,
      "id": "c97ba8a6",
      "metadata": {
        "colab": {
          "base_uri": "https://localhost:8080/"
        },
        "id": "c97ba8a6",
        "outputId": "90fe250a-a4b1-4d29-8212-34d4ffc8530e"
      },
      "outputs": [
        {
          "output_type": "stream",
          "name": "stdout",
          "text": [
            "<class 'pandas.core.frame.DataFrame'>\n",
            "RangeIndex: 1303 entries, 0 to 1302\n",
            "Data columns (total 12 columns):\n",
            " #   Column            Non-Null Count  Dtype  \n",
            "---  ------            --------------  -----  \n",
            " 0   laptop_ID         1303 non-null   int64  \n",
            " 1   Company           1303 non-null   object \n",
            " 2   Product           1303 non-null   object \n",
            " 3   TypeName          1303 non-null   object \n",
            " 4   Inches            1303 non-null   float64\n",
            " 5   ScreenResolution  1303 non-null   object \n",
            " 6   Cpu               1303 non-null   object \n",
            " 7   Ram               1303 non-null   object \n",
            " 8   Gpu               1303 non-null   object \n",
            " 9   OpSys             1303 non-null   object \n",
            " 10  Weight            1303 non-null   object \n",
            " 11  Price_euros       1303 non-null   float64\n",
            "dtypes: float64(2), int64(1), object(9)\n",
            "memory usage: 122.3+ KB\n"
          ]
        }
      ],
      "source": [
        "df.info()"
      ]
    },
    {
      "cell_type": "code",
      "execution_count": 18,
      "id": "5c16dc1d",
      "metadata": {
        "colab": {
          "base_uri": "https://localhost:8080/",
          "height": 153
        },
        "id": "5c16dc1d",
        "outputId": "911dc935-a2e0-499d-fc20-1bf38890751a"
      },
      "outputs": [
        {
          "output_type": "execute_result",
          "data": {
            "text/plain": [
              "   laptop_ID Company      Product   TypeName  Inches  \\\n",
              "0          1   Apple  MacBook Pro  Ultrabook    13.3   \n",
              "\n",
              "                     ScreenResolution                   Cpu  Ram  \\\n",
              "0  IPS Panel Retina Display 2560x1600  Intel Core i5 2.3GHz  8GB   \n",
              "\n",
              "                            Gpu  OpSys  Weight  Price_euros  \n",
              "0  Intel Iris Plus Graphics 640  macOS  1.37kg      1339.69  "
            ],
            "text/html": [
              "\n",
              "  <div id=\"df-48fb665e-4db3-4e14-ae9c-65b2cde4264b\" class=\"colab-df-container\">\n",
              "    <div>\n",
              "<style scoped>\n",
              "    .dataframe tbody tr th:only-of-type {\n",
              "        vertical-align: middle;\n",
              "    }\n",
              "\n",
              "    .dataframe tbody tr th {\n",
              "        vertical-align: top;\n",
              "    }\n",
              "\n",
              "    .dataframe thead th {\n",
              "        text-align: right;\n",
              "    }\n",
              "</style>\n",
              "<table border=\"1\" class=\"dataframe\">\n",
              "  <thead>\n",
              "    <tr style=\"text-align: right;\">\n",
              "      <th></th>\n",
              "      <th>laptop_ID</th>\n",
              "      <th>Company</th>\n",
              "      <th>Product</th>\n",
              "      <th>TypeName</th>\n",
              "      <th>Inches</th>\n",
              "      <th>ScreenResolution</th>\n",
              "      <th>Cpu</th>\n",
              "      <th>Ram</th>\n",
              "      <th>Gpu</th>\n",
              "      <th>OpSys</th>\n",
              "      <th>Weight</th>\n",
              "      <th>Price_euros</th>\n",
              "    </tr>\n",
              "  </thead>\n",
              "  <tbody>\n",
              "    <tr>\n",
              "      <th>0</th>\n",
              "      <td>1</td>\n",
              "      <td>Apple</td>\n",
              "      <td>MacBook Pro</td>\n",
              "      <td>Ultrabook</td>\n",
              "      <td>13.3</td>\n",
              "      <td>IPS Panel Retina Display 2560x1600</td>\n",
              "      <td>Intel Core i5 2.3GHz</td>\n",
              "      <td>8GB</td>\n",
              "      <td>Intel Iris Plus Graphics 640</td>\n",
              "      <td>macOS</td>\n",
              "      <td>1.37kg</td>\n",
              "      <td>1339.69</td>\n",
              "    </tr>\n",
              "  </tbody>\n",
              "</table>\n",
              "</div>\n",
              "    <div class=\"colab-df-buttons\">\n",
              "\n",
              "  <div class=\"colab-df-container\">\n",
              "    <button class=\"colab-df-convert\" onclick=\"convertToInteractive('df-48fb665e-4db3-4e14-ae9c-65b2cde4264b')\"\n",
              "            title=\"Convert this dataframe to an interactive table.\"\n",
              "            style=\"display:none;\">\n",
              "\n",
              "  <svg xmlns=\"http://www.w3.org/2000/svg\" height=\"24px\" viewBox=\"0 -960 960 960\">\n",
              "    <path d=\"M120-120v-720h720v720H120Zm60-500h600v-160H180v160Zm220 220h160v-160H400v160Zm0 220h160v-160H400v160ZM180-400h160v-160H180v160Zm440 0h160v-160H620v160ZM180-180h160v-160H180v160Zm440 0h160v-160H620v160Z\"/>\n",
              "  </svg>\n",
              "    </button>\n",
              "\n",
              "  <style>\n",
              "    .colab-df-container {\n",
              "      display:flex;\n",
              "      gap: 12px;\n",
              "    }\n",
              "\n",
              "    .colab-df-convert {\n",
              "      background-color: #E8F0FE;\n",
              "      border: none;\n",
              "      border-radius: 50%;\n",
              "      cursor: pointer;\n",
              "      display: none;\n",
              "      fill: #1967D2;\n",
              "      height: 32px;\n",
              "      padding: 0 0 0 0;\n",
              "      width: 32px;\n",
              "    }\n",
              "\n",
              "    .colab-df-convert:hover {\n",
              "      background-color: #E2EBFA;\n",
              "      box-shadow: 0px 1px 2px rgba(60, 64, 67, 0.3), 0px 1px 3px 1px rgba(60, 64, 67, 0.15);\n",
              "      fill: #174EA6;\n",
              "    }\n",
              "\n",
              "    .colab-df-buttons div {\n",
              "      margin-bottom: 4px;\n",
              "    }\n",
              "\n",
              "    [theme=dark] .colab-df-convert {\n",
              "      background-color: #3B4455;\n",
              "      fill: #D2E3FC;\n",
              "    }\n",
              "\n",
              "    [theme=dark] .colab-df-convert:hover {\n",
              "      background-color: #434B5C;\n",
              "      box-shadow: 0px 1px 3px 1px rgba(0, 0, 0, 0.15);\n",
              "      filter: drop-shadow(0px 1px 2px rgba(0, 0, 0, 0.3));\n",
              "      fill: #FFFFFF;\n",
              "    }\n",
              "  </style>\n",
              "\n",
              "    <script>\n",
              "      const buttonEl =\n",
              "        document.querySelector('#df-48fb665e-4db3-4e14-ae9c-65b2cde4264b button.colab-df-convert');\n",
              "      buttonEl.style.display =\n",
              "        google.colab.kernel.accessAllowed ? 'block' : 'none';\n",
              "\n",
              "      async function convertToInteractive(key) {\n",
              "        const element = document.querySelector('#df-48fb665e-4db3-4e14-ae9c-65b2cde4264b');\n",
              "        const dataTable =\n",
              "          await google.colab.kernel.invokeFunction('convertToInteractive',\n",
              "                                                    [key], {});\n",
              "        if (!dataTable) return;\n",
              "\n",
              "        const docLinkHtml = 'Like what you see? Visit the ' +\n",
              "          '<a target=\"_blank\" href=https://colab.research.google.com/notebooks/data_table.ipynb>data table notebook</a>'\n",
              "          + ' to learn more about interactive tables.';\n",
              "        element.innerHTML = '';\n",
              "        dataTable['output_type'] = 'display_data';\n",
              "        await google.colab.output.renderOutput(dataTable, element);\n",
              "        const docLink = document.createElement('div');\n",
              "        docLink.innerHTML = docLinkHtml;\n",
              "        element.appendChild(docLink);\n",
              "      }\n",
              "    </script>\n",
              "  </div>\n",
              "\n",
              "\n",
              "    </div>\n",
              "  </div>\n"
            ],
            "application/vnd.google.colaboratory.intrinsic+json": {
              "type": "dataframe",
              "variable_name": "df",
              "summary": "{\n  \"name\": \"df\",\n  \"rows\": 1303,\n  \"fields\": [\n    {\n      \"column\": \"laptop_ID\",\n      \"properties\": {\n        \"dtype\": \"number\",\n        \"std\": 381,\n        \"min\": 1,\n        \"max\": 1320,\n        \"num_unique_values\": 1303,\n        \"samples\": [\n          486,\n          1036,\n          303\n        ],\n        \"semantic_type\": \"\",\n        \"description\": \"\"\n      }\n    },\n    {\n      \"column\": \"Company\",\n      \"properties\": {\n        \"dtype\": \"category\",\n        \"num_unique_values\": 19,\n        \"samples\": [\n          \"Apple\",\n          \"Lenovo\",\n          \"Xiaomi\"\n        ],\n        \"semantic_type\": \"\",\n        \"description\": \"\"\n      }\n    },\n    {\n      \"column\": \"Product\",\n      \"properties\": {\n        \"dtype\": \"category\",\n        \"num_unique_values\": 618,\n        \"samples\": [\n          \"GL72M 7RDX\",\n          \"GS73VR 7RF\",\n          \"E402WA-GA007T (E2-6110/4GB/64GB/W10\"\n        ],\n        \"semantic_type\": \"\",\n        \"description\": \"\"\n      }\n    },\n    {\n      \"column\": \"TypeName\",\n      \"properties\": {\n        \"dtype\": \"category\",\n        \"num_unique_values\": 6,\n        \"samples\": [\n          \"Ultrabook\",\n          \"Notebook\",\n          \"Workstation\"\n        ],\n        \"semantic_type\": \"\",\n        \"description\": \"\"\n      }\n    },\n    {\n      \"column\": \"Inches\",\n      \"properties\": {\n        \"dtype\": \"number\",\n        \"std\": 1.4263040545691645,\n        \"min\": 10.1,\n        \"max\": 18.4,\n        \"num_unique_values\": 18,\n        \"samples\": [\n          13.3,\n          15.6,\n          13.5\n        ],\n        \"semantic_type\": \"\",\n        \"description\": \"\"\n      }\n    },\n    {\n      \"column\": \"ScreenResolution\",\n      \"properties\": {\n        \"dtype\": \"category\",\n        \"num_unique_values\": 40,\n        \"samples\": [\n          \"IPS Panel 4K Ultra HD 3840x2160\",\n          \"4K Ultra HD / Touchscreen 3840x2160\",\n          \"IPS Panel Full HD 2160x1440\"\n        ],\n        \"semantic_type\": \"\",\n        \"description\": \"\"\n      }\n    },\n    {\n      \"column\": \"Cpu\",\n      \"properties\": {\n        \"dtype\": \"category\",\n        \"num_unique_values\": 118,\n        \"samples\": [\n          \"Intel Celeron Dual Core 3855U 1.6GHz\",\n          \"AMD A6-Series 7310 2GHz\",\n          \"Intel Core i5 3.1GHz\"\n        ],\n        \"semantic_type\": \"\",\n        \"description\": \"\"\n      }\n    },\n    {\n      \"column\": \"Ram\",\n      \"properties\": {\n        \"dtype\": \"category\",\n        \"num_unique_values\": 9,\n        \"samples\": [\n          \"24GB\",\n          \"16GB\",\n          \"6GB\"\n        ],\n        \"semantic_type\": \"\",\n        \"description\": \"\"\n      }\n    },\n    {\n      \"column\": \"Gpu\",\n      \"properties\": {\n        \"dtype\": \"category\",\n        \"num_unique_values\": 110,\n        \"samples\": [\n          \"AMD Radeon R7\",\n          \"AMD Radeon Pro 555\",\n          \"Intel Iris Plus Graphics 650\"\n        ],\n        \"semantic_type\": \"\",\n        \"description\": \"\"\n      }\n    },\n    {\n      \"column\": \"OpSys\",\n      \"properties\": {\n        \"dtype\": \"category\",\n        \"num_unique_values\": 9,\n        \"samples\": [\n          \"Chrome OS\",\n          \"No OS\",\n          \"Android\"\n        ],\n        \"semantic_type\": \"\",\n        \"description\": \"\"\n      }\n    },\n    {\n      \"column\": \"Weight\",\n      \"properties\": {\n        \"dtype\": \"category\",\n        \"num_unique_values\": 179,\n        \"samples\": [\n          \"4.42kg\",\n          \"1.35kg\",\n          \"2.03kg\"\n        ],\n        \"semantic_type\": \"\",\n        \"description\": \"\"\n      }\n    },\n    {\n      \"column\": \"Price_euros\",\n      \"properties\": {\n        \"dtype\": \"number\",\n        \"std\": 699.0090425337413,\n        \"min\": 174.0,\n        \"max\": 6099.0,\n        \"num_unique_values\": 791,\n        \"samples\": [\n          1292.0,\n          389.0,\n          1798.0\n        ],\n        \"semantic_type\": \"\",\n        \"description\": \"\"\n      }\n    }\n  ]\n}"
            }
          },
          "metadata": {},
          "execution_count": 18
        }
      ],
      "source": [
        "df.head(1)"
      ]
    },
    {
      "cell_type": "code",
      "execution_count": 19,
      "id": "7fd0a636",
      "metadata": {
        "id": "7fd0a636"
      },
      "outputs": [],
      "source": [
        "df['Ram'] = df['Ram'].str.replace('GB','').astype('int32')"
      ]
    },
    {
      "cell_type": "code",
      "execution_count": 20,
      "id": "353a9c88",
      "metadata": {
        "colab": {
          "base_uri": "https://localhost:8080/",
          "height": 153
        },
        "id": "353a9c88",
        "outputId": "5b0013e6-5c63-4b72-d0d1-ebad25b9af3f"
      },
      "outputs": [
        {
          "output_type": "execute_result",
          "data": {
            "text/plain": [
              "   laptop_ID Company      Product   TypeName  Inches  \\\n",
              "0          1   Apple  MacBook Pro  Ultrabook    13.3   \n",
              "\n",
              "                     ScreenResolution                   Cpu  Ram  \\\n",
              "0  IPS Panel Retina Display 2560x1600  Intel Core i5 2.3GHz    8   \n",
              "\n",
              "                            Gpu  OpSys  Weight  Price_euros  \n",
              "0  Intel Iris Plus Graphics 640  macOS  1.37kg      1339.69  "
            ],
            "text/html": [
              "\n",
              "  <div id=\"df-b7910f90-b1e5-420e-bab4-082ff1e8ee57\" class=\"colab-df-container\">\n",
              "    <div>\n",
              "<style scoped>\n",
              "    .dataframe tbody tr th:only-of-type {\n",
              "        vertical-align: middle;\n",
              "    }\n",
              "\n",
              "    .dataframe tbody tr th {\n",
              "        vertical-align: top;\n",
              "    }\n",
              "\n",
              "    .dataframe thead th {\n",
              "        text-align: right;\n",
              "    }\n",
              "</style>\n",
              "<table border=\"1\" class=\"dataframe\">\n",
              "  <thead>\n",
              "    <tr style=\"text-align: right;\">\n",
              "      <th></th>\n",
              "      <th>laptop_ID</th>\n",
              "      <th>Company</th>\n",
              "      <th>Product</th>\n",
              "      <th>TypeName</th>\n",
              "      <th>Inches</th>\n",
              "      <th>ScreenResolution</th>\n",
              "      <th>Cpu</th>\n",
              "      <th>Ram</th>\n",
              "      <th>Gpu</th>\n",
              "      <th>OpSys</th>\n",
              "      <th>Weight</th>\n",
              "      <th>Price_euros</th>\n",
              "    </tr>\n",
              "  </thead>\n",
              "  <tbody>\n",
              "    <tr>\n",
              "      <th>0</th>\n",
              "      <td>1</td>\n",
              "      <td>Apple</td>\n",
              "      <td>MacBook Pro</td>\n",
              "      <td>Ultrabook</td>\n",
              "      <td>13.3</td>\n",
              "      <td>IPS Panel Retina Display 2560x1600</td>\n",
              "      <td>Intel Core i5 2.3GHz</td>\n",
              "      <td>8</td>\n",
              "      <td>Intel Iris Plus Graphics 640</td>\n",
              "      <td>macOS</td>\n",
              "      <td>1.37kg</td>\n",
              "      <td>1339.69</td>\n",
              "    </tr>\n",
              "  </tbody>\n",
              "</table>\n",
              "</div>\n",
              "    <div class=\"colab-df-buttons\">\n",
              "\n",
              "  <div class=\"colab-df-container\">\n",
              "    <button class=\"colab-df-convert\" onclick=\"convertToInteractive('df-b7910f90-b1e5-420e-bab4-082ff1e8ee57')\"\n",
              "            title=\"Convert this dataframe to an interactive table.\"\n",
              "            style=\"display:none;\">\n",
              "\n",
              "  <svg xmlns=\"http://www.w3.org/2000/svg\" height=\"24px\" viewBox=\"0 -960 960 960\">\n",
              "    <path d=\"M120-120v-720h720v720H120Zm60-500h600v-160H180v160Zm220 220h160v-160H400v160Zm0 220h160v-160H400v160ZM180-400h160v-160H180v160Zm440 0h160v-160H620v160ZM180-180h160v-160H180v160Zm440 0h160v-160H620v160Z\"/>\n",
              "  </svg>\n",
              "    </button>\n",
              "\n",
              "  <style>\n",
              "    .colab-df-container {\n",
              "      display:flex;\n",
              "      gap: 12px;\n",
              "    }\n",
              "\n",
              "    .colab-df-convert {\n",
              "      background-color: #E8F0FE;\n",
              "      border: none;\n",
              "      border-radius: 50%;\n",
              "      cursor: pointer;\n",
              "      display: none;\n",
              "      fill: #1967D2;\n",
              "      height: 32px;\n",
              "      padding: 0 0 0 0;\n",
              "      width: 32px;\n",
              "    }\n",
              "\n",
              "    .colab-df-convert:hover {\n",
              "      background-color: #E2EBFA;\n",
              "      box-shadow: 0px 1px 2px rgba(60, 64, 67, 0.3), 0px 1px 3px 1px rgba(60, 64, 67, 0.15);\n",
              "      fill: #174EA6;\n",
              "    }\n",
              "\n",
              "    .colab-df-buttons div {\n",
              "      margin-bottom: 4px;\n",
              "    }\n",
              "\n",
              "    [theme=dark] .colab-df-convert {\n",
              "      background-color: #3B4455;\n",
              "      fill: #D2E3FC;\n",
              "    }\n",
              "\n",
              "    [theme=dark] .colab-df-convert:hover {\n",
              "      background-color: #434B5C;\n",
              "      box-shadow: 0px 1px 3px 1px rgba(0, 0, 0, 0.15);\n",
              "      filter: drop-shadow(0px 1px 2px rgba(0, 0, 0, 0.3));\n",
              "      fill: #FFFFFF;\n",
              "    }\n",
              "  </style>\n",
              "\n",
              "    <script>\n",
              "      const buttonEl =\n",
              "        document.querySelector('#df-b7910f90-b1e5-420e-bab4-082ff1e8ee57 button.colab-df-convert');\n",
              "      buttonEl.style.display =\n",
              "        google.colab.kernel.accessAllowed ? 'block' : 'none';\n",
              "\n",
              "      async function convertToInteractive(key) {\n",
              "        const element = document.querySelector('#df-b7910f90-b1e5-420e-bab4-082ff1e8ee57');\n",
              "        const dataTable =\n",
              "          await google.colab.kernel.invokeFunction('convertToInteractive',\n",
              "                                                    [key], {});\n",
              "        if (!dataTable) return;\n",
              "\n",
              "        const docLinkHtml = 'Like what you see? Visit the ' +\n",
              "          '<a target=\"_blank\" href=https://colab.research.google.com/notebooks/data_table.ipynb>data table notebook</a>'\n",
              "          + ' to learn more about interactive tables.';\n",
              "        element.innerHTML = '';\n",
              "        dataTable['output_type'] = 'display_data';\n",
              "        await google.colab.output.renderOutput(dataTable, element);\n",
              "        const docLink = document.createElement('div');\n",
              "        docLink.innerHTML = docLinkHtml;\n",
              "        element.appendChild(docLink);\n",
              "      }\n",
              "    </script>\n",
              "  </div>\n",
              "\n",
              "\n",
              "    </div>\n",
              "  </div>\n"
            ],
            "application/vnd.google.colaboratory.intrinsic+json": {
              "type": "dataframe",
              "variable_name": "df",
              "summary": "{\n  \"name\": \"df\",\n  \"rows\": 1303,\n  \"fields\": [\n    {\n      \"column\": \"laptop_ID\",\n      \"properties\": {\n        \"dtype\": \"number\",\n        \"std\": 381,\n        \"min\": 1,\n        \"max\": 1320,\n        \"num_unique_values\": 1303,\n        \"samples\": [\n          486,\n          1036,\n          303\n        ],\n        \"semantic_type\": \"\",\n        \"description\": \"\"\n      }\n    },\n    {\n      \"column\": \"Company\",\n      \"properties\": {\n        \"dtype\": \"category\",\n        \"num_unique_values\": 19,\n        \"samples\": [\n          \"Apple\",\n          \"Lenovo\",\n          \"Xiaomi\"\n        ],\n        \"semantic_type\": \"\",\n        \"description\": \"\"\n      }\n    },\n    {\n      \"column\": \"Product\",\n      \"properties\": {\n        \"dtype\": \"category\",\n        \"num_unique_values\": 618,\n        \"samples\": [\n          \"GL72M 7RDX\",\n          \"GS73VR 7RF\",\n          \"E402WA-GA007T (E2-6110/4GB/64GB/W10\"\n        ],\n        \"semantic_type\": \"\",\n        \"description\": \"\"\n      }\n    },\n    {\n      \"column\": \"TypeName\",\n      \"properties\": {\n        \"dtype\": \"category\",\n        \"num_unique_values\": 6,\n        \"samples\": [\n          \"Ultrabook\",\n          \"Notebook\",\n          \"Workstation\"\n        ],\n        \"semantic_type\": \"\",\n        \"description\": \"\"\n      }\n    },\n    {\n      \"column\": \"Inches\",\n      \"properties\": {\n        \"dtype\": \"number\",\n        \"std\": 1.4263040545691645,\n        \"min\": 10.1,\n        \"max\": 18.4,\n        \"num_unique_values\": 18,\n        \"samples\": [\n          13.3,\n          15.6,\n          13.5\n        ],\n        \"semantic_type\": \"\",\n        \"description\": \"\"\n      }\n    },\n    {\n      \"column\": \"ScreenResolution\",\n      \"properties\": {\n        \"dtype\": \"category\",\n        \"num_unique_values\": 40,\n        \"samples\": [\n          \"IPS Panel 4K Ultra HD 3840x2160\",\n          \"4K Ultra HD / Touchscreen 3840x2160\",\n          \"IPS Panel Full HD 2160x1440\"\n        ],\n        \"semantic_type\": \"\",\n        \"description\": \"\"\n      }\n    },\n    {\n      \"column\": \"Cpu\",\n      \"properties\": {\n        \"dtype\": \"category\",\n        \"num_unique_values\": 118,\n        \"samples\": [\n          \"Intel Celeron Dual Core 3855U 1.6GHz\",\n          \"AMD A6-Series 7310 2GHz\",\n          \"Intel Core i5 3.1GHz\"\n        ],\n        \"semantic_type\": \"\",\n        \"description\": \"\"\n      }\n    },\n    {\n      \"column\": \"Ram\",\n      \"properties\": {\n        \"dtype\": \"int32\",\n        \"num_unique_values\": 9,\n        \"samples\": [\n          24,\n          16,\n          6\n        ],\n        \"semantic_type\": \"\",\n        \"description\": \"\"\n      }\n    },\n    {\n      \"column\": \"Gpu\",\n      \"properties\": {\n        \"dtype\": \"category\",\n        \"num_unique_values\": 110,\n        \"samples\": [\n          \"AMD Radeon R7\",\n          \"AMD Radeon Pro 555\",\n          \"Intel Iris Plus Graphics 650\"\n        ],\n        \"semantic_type\": \"\",\n        \"description\": \"\"\n      }\n    },\n    {\n      \"column\": \"OpSys\",\n      \"properties\": {\n        \"dtype\": \"category\",\n        \"num_unique_values\": 9,\n        \"samples\": [\n          \"Chrome OS\",\n          \"No OS\",\n          \"Android\"\n        ],\n        \"semantic_type\": \"\",\n        \"description\": \"\"\n      }\n    },\n    {\n      \"column\": \"Weight\",\n      \"properties\": {\n        \"dtype\": \"category\",\n        \"num_unique_values\": 179,\n        \"samples\": [\n          \"4.42kg\",\n          \"1.35kg\",\n          \"2.03kg\"\n        ],\n        \"semantic_type\": \"\",\n        \"description\": \"\"\n      }\n    },\n    {\n      \"column\": \"Price_euros\",\n      \"properties\": {\n        \"dtype\": \"number\",\n        \"std\": 699.0090425337413,\n        \"min\": 174.0,\n        \"max\": 6099.0,\n        \"num_unique_values\": 791,\n        \"samples\": [\n          1292.0,\n          389.0,\n          1798.0\n        ],\n        \"semantic_type\": \"\",\n        \"description\": \"\"\n      }\n    }\n  ]\n}"
            }
          },
          "metadata": {},
          "execution_count": 20
        }
      ],
      "source": [
        "df.head(1)"
      ]
    },
    {
      "cell_type": "code",
      "execution_count": 21,
      "id": "747b7a8f",
      "metadata": {
        "id": "747b7a8f"
      },
      "outputs": [],
      "source": [
        "df['Weight'] = df['Weight'].str.replace('kg','').astype('float32')"
      ]
    },
    {
      "cell_type": "code",
      "execution_count": 22,
      "id": "91f882fd",
      "metadata": {
        "colab": {
          "base_uri": "https://localhost:8080/",
          "height": 153
        },
        "id": "91f882fd",
        "outputId": "56edd9d0-f602-44ea-c049-59befbb4ed1d"
      },
      "outputs": [
        {
          "output_type": "execute_result",
          "data": {
            "text/plain": [
              "   laptop_ID Company      Product   TypeName  Inches  \\\n",
              "0          1   Apple  MacBook Pro  Ultrabook    13.3   \n",
              "\n",
              "                     ScreenResolution                   Cpu  Ram  \\\n",
              "0  IPS Panel Retina Display 2560x1600  Intel Core i5 2.3GHz    8   \n",
              "\n",
              "                            Gpu  OpSys  Weight  Price_euros  \n",
              "0  Intel Iris Plus Graphics 640  macOS    1.37      1339.69  "
            ],
            "text/html": [
              "\n",
              "  <div id=\"df-afb68875-a42a-4350-ac96-2440ff1cf4c9\" class=\"colab-df-container\">\n",
              "    <div>\n",
              "<style scoped>\n",
              "    .dataframe tbody tr th:only-of-type {\n",
              "        vertical-align: middle;\n",
              "    }\n",
              "\n",
              "    .dataframe tbody tr th {\n",
              "        vertical-align: top;\n",
              "    }\n",
              "\n",
              "    .dataframe thead th {\n",
              "        text-align: right;\n",
              "    }\n",
              "</style>\n",
              "<table border=\"1\" class=\"dataframe\">\n",
              "  <thead>\n",
              "    <tr style=\"text-align: right;\">\n",
              "      <th></th>\n",
              "      <th>laptop_ID</th>\n",
              "      <th>Company</th>\n",
              "      <th>Product</th>\n",
              "      <th>TypeName</th>\n",
              "      <th>Inches</th>\n",
              "      <th>ScreenResolution</th>\n",
              "      <th>Cpu</th>\n",
              "      <th>Ram</th>\n",
              "      <th>Gpu</th>\n",
              "      <th>OpSys</th>\n",
              "      <th>Weight</th>\n",
              "      <th>Price_euros</th>\n",
              "    </tr>\n",
              "  </thead>\n",
              "  <tbody>\n",
              "    <tr>\n",
              "      <th>0</th>\n",
              "      <td>1</td>\n",
              "      <td>Apple</td>\n",
              "      <td>MacBook Pro</td>\n",
              "      <td>Ultrabook</td>\n",
              "      <td>13.3</td>\n",
              "      <td>IPS Panel Retina Display 2560x1600</td>\n",
              "      <td>Intel Core i5 2.3GHz</td>\n",
              "      <td>8</td>\n",
              "      <td>Intel Iris Plus Graphics 640</td>\n",
              "      <td>macOS</td>\n",
              "      <td>1.37</td>\n",
              "      <td>1339.69</td>\n",
              "    </tr>\n",
              "  </tbody>\n",
              "</table>\n",
              "</div>\n",
              "    <div class=\"colab-df-buttons\">\n",
              "\n",
              "  <div class=\"colab-df-container\">\n",
              "    <button class=\"colab-df-convert\" onclick=\"convertToInteractive('df-afb68875-a42a-4350-ac96-2440ff1cf4c9')\"\n",
              "            title=\"Convert this dataframe to an interactive table.\"\n",
              "            style=\"display:none;\">\n",
              "\n",
              "  <svg xmlns=\"http://www.w3.org/2000/svg\" height=\"24px\" viewBox=\"0 -960 960 960\">\n",
              "    <path d=\"M120-120v-720h720v720H120Zm60-500h600v-160H180v160Zm220 220h160v-160H400v160Zm0 220h160v-160H400v160ZM180-400h160v-160H180v160Zm440 0h160v-160H620v160ZM180-180h160v-160H180v160Zm440 0h160v-160H620v160Z\"/>\n",
              "  </svg>\n",
              "    </button>\n",
              "\n",
              "  <style>\n",
              "    .colab-df-container {\n",
              "      display:flex;\n",
              "      gap: 12px;\n",
              "    }\n",
              "\n",
              "    .colab-df-convert {\n",
              "      background-color: #E8F0FE;\n",
              "      border: none;\n",
              "      border-radius: 50%;\n",
              "      cursor: pointer;\n",
              "      display: none;\n",
              "      fill: #1967D2;\n",
              "      height: 32px;\n",
              "      padding: 0 0 0 0;\n",
              "      width: 32px;\n",
              "    }\n",
              "\n",
              "    .colab-df-convert:hover {\n",
              "      background-color: #E2EBFA;\n",
              "      box-shadow: 0px 1px 2px rgba(60, 64, 67, 0.3), 0px 1px 3px 1px rgba(60, 64, 67, 0.15);\n",
              "      fill: #174EA6;\n",
              "    }\n",
              "\n",
              "    .colab-df-buttons div {\n",
              "      margin-bottom: 4px;\n",
              "    }\n",
              "\n",
              "    [theme=dark] .colab-df-convert {\n",
              "      background-color: #3B4455;\n",
              "      fill: #D2E3FC;\n",
              "    }\n",
              "\n",
              "    [theme=dark] .colab-df-convert:hover {\n",
              "      background-color: #434B5C;\n",
              "      box-shadow: 0px 1px 3px 1px rgba(0, 0, 0, 0.15);\n",
              "      filter: drop-shadow(0px 1px 2px rgba(0, 0, 0, 0.3));\n",
              "      fill: #FFFFFF;\n",
              "    }\n",
              "  </style>\n",
              "\n",
              "    <script>\n",
              "      const buttonEl =\n",
              "        document.querySelector('#df-afb68875-a42a-4350-ac96-2440ff1cf4c9 button.colab-df-convert');\n",
              "      buttonEl.style.display =\n",
              "        google.colab.kernel.accessAllowed ? 'block' : 'none';\n",
              "\n",
              "      async function convertToInteractive(key) {\n",
              "        const element = document.querySelector('#df-afb68875-a42a-4350-ac96-2440ff1cf4c9');\n",
              "        const dataTable =\n",
              "          await google.colab.kernel.invokeFunction('convertToInteractive',\n",
              "                                                    [key], {});\n",
              "        if (!dataTable) return;\n",
              "\n",
              "        const docLinkHtml = 'Like what you see? Visit the ' +\n",
              "          '<a target=\"_blank\" href=https://colab.research.google.com/notebooks/data_table.ipynb>data table notebook</a>'\n",
              "          + ' to learn more about interactive tables.';\n",
              "        element.innerHTML = '';\n",
              "        dataTable['output_type'] = 'display_data';\n",
              "        await google.colab.output.renderOutput(dataTable, element);\n",
              "        const docLink = document.createElement('div');\n",
              "        docLink.innerHTML = docLinkHtml;\n",
              "        element.appendChild(docLink);\n",
              "      }\n",
              "    </script>\n",
              "  </div>\n",
              "\n",
              "\n",
              "    </div>\n",
              "  </div>\n"
            ],
            "application/vnd.google.colaboratory.intrinsic+json": {
              "type": "dataframe",
              "variable_name": "df",
              "summary": "{\n  \"name\": \"df\",\n  \"rows\": 1303,\n  \"fields\": [\n    {\n      \"column\": \"laptop_ID\",\n      \"properties\": {\n        \"dtype\": \"number\",\n        \"std\": 381,\n        \"min\": 1,\n        \"max\": 1320,\n        \"num_unique_values\": 1303,\n        \"samples\": [\n          486,\n          1036,\n          303\n        ],\n        \"semantic_type\": \"\",\n        \"description\": \"\"\n      }\n    },\n    {\n      \"column\": \"Company\",\n      \"properties\": {\n        \"dtype\": \"category\",\n        \"num_unique_values\": 19,\n        \"samples\": [\n          \"Apple\",\n          \"Lenovo\",\n          \"Xiaomi\"\n        ],\n        \"semantic_type\": \"\",\n        \"description\": \"\"\n      }\n    },\n    {\n      \"column\": \"Product\",\n      \"properties\": {\n        \"dtype\": \"category\",\n        \"num_unique_values\": 618,\n        \"samples\": [\n          \"GL72M 7RDX\",\n          \"GS73VR 7RF\",\n          \"E402WA-GA007T (E2-6110/4GB/64GB/W10\"\n        ],\n        \"semantic_type\": \"\",\n        \"description\": \"\"\n      }\n    },\n    {\n      \"column\": \"TypeName\",\n      \"properties\": {\n        \"dtype\": \"category\",\n        \"num_unique_values\": 6,\n        \"samples\": [\n          \"Ultrabook\",\n          \"Notebook\",\n          \"Workstation\"\n        ],\n        \"semantic_type\": \"\",\n        \"description\": \"\"\n      }\n    },\n    {\n      \"column\": \"Inches\",\n      \"properties\": {\n        \"dtype\": \"number\",\n        \"std\": 1.4263040545691645,\n        \"min\": 10.1,\n        \"max\": 18.4,\n        \"num_unique_values\": 18,\n        \"samples\": [\n          13.3,\n          15.6,\n          13.5\n        ],\n        \"semantic_type\": \"\",\n        \"description\": \"\"\n      }\n    },\n    {\n      \"column\": \"ScreenResolution\",\n      \"properties\": {\n        \"dtype\": \"category\",\n        \"num_unique_values\": 40,\n        \"samples\": [\n          \"IPS Panel 4K Ultra HD 3840x2160\",\n          \"4K Ultra HD / Touchscreen 3840x2160\",\n          \"IPS Panel Full HD 2160x1440\"\n        ],\n        \"semantic_type\": \"\",\n        \"description\": \"\"\n      }\n    },\n    {\n      \"column\": \"Cpu\",\n      \"properties\": {\n        \"dtype\": \"category\",\n        \"num_unique_values\": 118,\n        \"samples\": [\n          \"Intel Celeron Dual Core 3855U 1.6GHz\",\n          \"AMD A6-Series 7310 2GHz\",\n          \"Intel Core i5 3.1GHz\"\n        ],\n        \"semantic_type\": \"\",\n        \"description\": \"\"\n      }\n    },\n    {\n      \"column\": \"Ram\",\n      \"properties\": {\n        \"dtype\": \"int32\",\n        \"num_unique_values\": 9,\n        \"samples\": [\n          24,\n          16,\n          6\n        ],\n        \"semantic_type\": \"\",\n        \"description\": \"\"\n      }\n    },\n    {\n      \"column\": \"Gpu\",\n      \"properties\": {\n        \"dtype\": \"category\",\n        \"num_unique_values\": 110,\n        \"samples\": [\n          \"AMD Radeon R7\",\n          \"AMD Radeon Pro 555\",\n          \"Intel Iris Plus Graphics 650\"\n        ],\n        \"semantic_type\": \"\",\n        \"description\": \"\"\n      }\n    },\n    {\n      \"column\": \"OpSys\",\n      \"properties\": {\n        \"dtype\": \"category\",\n        \"num_unique_values\": 9,\n        \"samples\": [\n          \"Chrome OS\",\n          \"No OS\",\n          \"Android\"\n        ],\n        \"semantic_type\": \"\",\n        \"description\": \"\"\n      }\n    },\n    {\n      \"column\": \"Weight\",\n      \"properties\": {\n        \"dtype\": \"float32\",\n        \"num_unique_values\": 171,\n        \"samples\": [\n          2.5999999046325684,\n          2.049999952316284,\n          1.3200000524520874\n        ],\n        \"semantic_type\": \"\",\n        \"description\": \"\"\n      }\n    },\n    {\n      \"column\": \"Price_euros\",\n      \"properties\": {\n        \"dtype\": \"number\",\n        \"std\": 699.0090425337413,\n        \"min\": 174.0,\n        \"max\": 6099.0,\n        \"num_unique_values\": 791,\n        \"samples\": [\n          1292.0,\n          389.0,\n          1798.0\n        ],\n        \"semantic_type\": \"\",\n        \"description\": \"\"\n      }\n    }\n  ]\n}"
            }
          },
          "metadata": {},
          "execution_count": 22
        }
      ],
      "source": [
        "df.head(1)"
      ]
    },
    {
      "cell_type": "code",
      "source": [
        "df.info()"
      ],
      "metadata": {
        "colab": {
          "base_uri": "https://localhost:8080/"
        },
        "id": "cUloUfuILQnw",
        "outputId": "716886d7-00a0-4204-aaf7-78fb963d5496"
      },
      "id": "cUloUfuILQnw",
      "execution_count": 23,
      "outputs": [
        {
          "output_type": "stream",
          "name": "stdout",
          "text": [
            "<class 'pandas.core.frame.DataFrame'>\n",
            "RangeIndex: 1303 entries, 0 to 1302\n",
            "Data columns (total 12 columns):\n",
            " #   Column            Non-Null Count  Dtype  \n",
            "---  ------            --------------  -----  \n",
            " 0   laptop_ID         1303 non-null   int64  \n",
            " 1   Company           1303 non-null   object \n",
            " 2   Product           1303 non-null   object \n",
            " 3   TypeName          1303 non-null   object \n",
            " 4   Inches            1303 non-null   float64\n",
            " 5   ScreenResolution  1303 non-null   object \n",
            " 6   Cpu               1303 non-null   object \n",
            " 7   Ram               1303 non-null   int32  \n",
            " 8   Gpu               1303 non-null   object \n",
            " 9   OpSys             1303 non-null   object \n",
            " 10  Weight            1303 non-null   float32\n",
            " 11  Price_euros       1303 non-null   float64\n",
            "dtypes: float32(1), float64(2), int32(1), int64(1), object(7)\n",
            "memory usage: 112.1+ KB\n"
          ]
        }
      ]
    },
    {
      "cell_type": "code",
      "execution_count": 27,
      "id": "a9b15b5b",
      "metadata": {
        "colab": {
          "base_uri": "https://localhost:8080/"
        },
        "id": "a9b15b5b",
        "outputId": "3c10ce79-2ae4-4e90-d24e-5be220619be4"
      },
      "outputs": [
        {
          "output_type": "stream",
          "name": "stdout",
          "text": [
            "laptop_ID      0.067830\n",
            "Inches         0.068197\n",
            "Ram            0.743007\n",
            "Weight         0.210370\n",
            "Price_euros    1.000000\n",
            "Name: Price_euros, dtype: float64\n"
          ]
        }
      ],
      "source": [
        "numeric_df = df.select_dtypes(include=['number'])\n",
        "correlations = numeric_df.corr()['Price_euros']\n",
        "print(correlations)"
      ]
    },
    {
      "cell_type": "code",
      "execution_count": 28,
      "id": "82b22dc4",
      "metadata": {
        "id": "82b22dc4",
        "colab": {
          "base_uri": "https://localhost:8080/"
        },
        "outputId": "ea84455c-75f0-4095-b53f-dfa2ac9c45ca"
      },
      "outputs": [
        {
          "output_type": "execute_result",
          "data": {
            "text/plain": [
              "Company\n",
              "Dell         297\n",
              "Lenovo       297\n",
              "HP           274\n",
              "Asus         158\n",
              "Acer         103\n",
              "MSI           54\n",
              "Toshiba       48\n",
              "Apple         21\n",
              "Samsung        9\n",
              "Razer          7\n",
              "Mediacom       7\n",
              "Microsoft      6\n",
              "Xiaomi         4\n",
              "Vero           4\n",
              "Chuwi          3\n",
              "Google         3\n",
              "Fujitsu        3\n",
              "LG             3\n",
              "Huawei         2\n",
              "Name: count, dtype: int64"
            ]
          },
          "metadata": {},
          "execution_count": 28
        }
      ],
      "source": [
        "df['Company'].value_counts()"
      ]
    },
    {
      "cell_type": "code",
      "execution_count": 29,
      "id": "a0c6fa06",
      "metadata": {
        "id": "a0c6fa06"
      },
      "outputs": [],
      "source": [
        "def add_company(inpt):\n",
        "    if inpt == 'Samsung'  or inpt=='Razer ' or inpt=='Mediacom'  or inpt=='Microsoft'  or inpt=='Xiaomi' or inpt=='Vero' or inpt=='Chuwi' or inpt=='Google' or inpt=='Fujitsu'  or inpt=='LG' or inpt=='Huawei'or inpt =='Razer':\n",
        "        return 'Other'\n",
        "    else:\n",
        "        return inpt\n",
        "df['Company'] = df['Company'].apply(add_company)"
      ]
    },
    {
      "cell_type": "code",
      "execution_count": 30,
      "id": "2d9567a8",
      "metadata": {
        "id": "2d9567a8",
        "colab": {
          "base_uri": "https://localhost:8080/"
        },
        "outputId": "89287fe4-ee22-4e7c-b691-fb7c5935677a"
      },
      "outputs": [
        {
          "output_type": "execute_result",
          "data": {
            "text/plain": [
              "Company\n",
              "Dell       297\n",
              "Lenovo     297\n",
              "HP         274\n",
              "Asus       158\n",
              "Acer       103\n",
              "MSI         54\n",
              "Other       51\n",
              "Toshiba     48\n",
              "Apple       21\n",
              "Name: count, dtype: int64"
            ]
          },
          "metadata": {},
          "execution_count": 30
        }
      ],
      "source": [
        "df['Company'].value_counts()"
      ]
    },
    {
      "cell_type": "code",
      "execution_count": 31,
      "id": "e4688955",
      "metadata": {
        "id": "e4688955",
        "colab": {
          "base_uri": "https://localhost:8080/"
        },
        "outputId": "a7e6da9b-6647-4753-ac8b-d9685ee25410"
      },
      "outputs": [
        {
          "output_type": "execute_result",
          "data": {
            "text/plain": [
              "TypeName\n",
              "Notebook              727\n",
              "Gaming                205\n",
              "Ultrabook             196\n",
              "2 in 1 Convertible    121\n",
              "Workstation            29\n",
              "Netbook                25\n",
              "Name: count, dtype: int64"
            ]
          },
          "metadata": {},
          "execution_count": 31
        }
      ],
      "source": [
        "df['TypeName'].value_counts()"
      ]
    },
    {
      "cell_type": "code",
      "execution_count": null,
      "id": "d9633e84",
      "metadata": {
        "id": "d9633e84"
      },
      "outputs": [],
      "source": [
        "df['ScreenResolution'].value_counts()"
      ]
    },
    {
      "cell_type": "code",
      "execution_count": null,
      "id": "93e262c1",
      "metadata": {
        "id": "93e262c1"
      },
      "outputs": [],
      "source": [
        "df['Touchscreen'] = df['ScreenResolution'].apply(lambda x:1 if 'Touchscreen' in x else 0)\n",
        "df['IPS'] = df['ScreenResolution'].apply(lambda x:1 if 'IPS' in x else 0)"
      ]
    }
  ],
  "metadata": {
    "kernelspec": {
      "display_name": "Python 3 (ipykernel)",
      "language": "python",
      "name": "python3"
    },
    "language_info": {
      "codemirror_mode": {
        "name": "ipython",
        "version": 3
      },
      "file_extension": ".py",
      "mimetype": "text/x-python",
      "name": "python",
      "nbconvert_exporter": "python",
      "pygments_lexer": "ipython3",
      "version": "3.11.5"
    },
    "colab": {
      "provenance": [],
      "include_colab_link": true
    }
  },
  "nbformat": 4,
  "nbformat_minor": 5
}